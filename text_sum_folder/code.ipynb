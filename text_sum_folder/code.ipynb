{
 "cells": [
  {
   "cell_type": "code",
   "execution_count": 13,
   "metadata": {},
   "outputs": [],
   "source": [
    "import spacy"
   ]
  },
  {
   "cell_type": "code",
   "execution_count": 14,
   "metadata": {},
   "outputs": [],
   "source": [
    "nlp = spacy.load(\"en_core_web_sm\")"
   ]
  },
  {
   "cell_type": "code",
   "execution_count": 15,
   "metadata": {},
   "outputs": [],
   "source": [
    "import en_core_web_sm"
   ]
  },
  {
   "cell_type": "code",
   "execution_count": 16,
   "metadata": {},
   "outputs": [],
   "source": [
    "nlp = en_core_web_sm.load()"
   ]
  },
  {
   "cell_type": "code",
   "execution_count": 17,
   "metadata": {},
   "outputs": [],
   "source": [
    "with open('info.txt', 'r') as file:\n",
    "    data = file.read().replace('\\n', '')"
   ]
  },
  {
   "cell_type": "code",
   "execution_count": 18,
   "metadata": {},
   "outputs": [
    {
     "name": "stdout",
     "output_type": "stream",
     "text": [
      "4455\n"
     ]
    }
   ],
   "source": [
    "#remove special characters and upper cases\n",
    "def preprocess_text(data):\n",
    "    data2=data.lower()\n",
    "    doc = nlp(data2)\n",
    "\n",
    "    # am using newdoc1 , i remove the punctions, special characters, white space and stop words\n",
    "    \n",
    "    newdoc1 =' '.join([token.text for token in doc if not token.is_punct and not token.is_space and not token.is_stop]) #this one create a string but instead of one word its a paragraph\n",
    "    newdoc2 = [token for token in doc if not token.is_punct and not token.is_space] # this one create a list or strings each string is a token\n",
    "    doc1 = nlp(newdoc1)\n",
    "    \n",
    "    return doc1\n",
    "#cleaned_text= preprocess_text(data)\n",
    "print(len(data))"
   ]
  },
  {
   "cell_type": "code",
   "execution_count": 19,
   "metadata": {},
   "outputs": [],
   "source": [
    "#finding4 the frequencies of each important token\n",
    "def finding_frequencies(data):\n",
    "    cleaned_text= preprocess_text(data)\n",
    "    word_frequencies = {}\n",
    "    for token in cleaned_text:\n",
    "        word = token.text\n",
    "        if word not in word_frequencies:\n",
    "            word_frequencies[word] = 1\n",
    "        else:\n",
    "            word_frequencies[word] += 1\n",
    "\n",
    "    key_word={}\n",
    "    for word, frequency in word_frequencies.items():\n",
    "        if frequency>2 or frequency==2:\n",
    "            if word not in key_word:\n",
    "                key_word[word]=frequency\n",
    "                \n",
    "    return key_word\n"
   ]
  },
  {
   "cell_type": "code",
   "execution_count": 20,
   "metadata": {},
   "outputs": [],
   "source": [
    "#finding the score of each sentences\n",
    "def calculating_score_for_sentences(data):\n",
    "    doc = nlp(data)\n",
    "    key_word = finding_frequencies(data)\n",
    "\n",
    "    sentences_score={}\n",
    "    for sent in doc.sents:\n",
    "        sentence_frequency = 0\n",
    "        for token in sent:\n",
    "            if token.text.lower() in key_word:\n",
    "                sentence_frequency += key_word[token.text.lower()]\n",
    "        sentences_score[sent] = sentence_frequency\n",
    "\n",
    "    max_score = max(sentences_score.values())\n",
    "\n",
    "    for sentence, score in sentences_score.items():\n",
    "        sentences_score[sentence]=score/max_score\n",
    "\n",
    "    return sentences_score;"
   ]
  },
  {
   "cell_type": "code",
   "execution_count": 21,
   "metadata": {},
   "outputs": [
    {
     "name": "stdout",
     "output_type": "stream",
     "text": [
      "Summary:\n",
      "This dissertation explores the meaning and consequences of corruption, examines the factors that contribute to its prevalence, and proposes potential solutions. Additionally, it delves into the influence of different political systems on corruption and highlights how specific types of governance can either foster or combat corrupt practices. Corruption refers to the abuse of entrusted power for personal gain or the circumvention of rules, laws, and ethical standards. Corruption erodes public trust, weakens institutions, distorts market competition, and hampers social progress. Additionally, corruption undermines the rule of law, eroding public confidence in the justice system and perpetuating a culture of impunity. Weak governance structures, inadequate accountability mechanisms, and insufficient transparency create an environment conducive to corruption. High levels of income inequality, a lack of checks and balances, and limited civic participation further exacerbate corrupt practices. Moreover, systemic issues such as flawed legal frameworks, inadequate salaries for public officials, and cultural acceptance of graft perpetuate corruption. First, promoting transparency and accountability through robust legal frameworks, independent judiciaries, and effective anti-corruption agencies is essential. Third, international cooperation and collaboration, including the exchange of best practices and support for capacity building in anti-corruption efforts, can aid in combating corruption globally. Political systems play a significant role in either facilitating or curbing corruption. Transparent, accountable, and inclusive political systems, such as democracies with strong institutions, are generally more effective in combating corruption. Conversely, authoritarian  regimes with weak institutions, limited accountability, and a lack of civic freedoms often experience higher levels of corruption. Building robust democratic institutions, promoting  political pluralism, and strengthening the rule of law are critical steps toward reducing corruption. Establishing accountable political systems that prioritize integrity and foster citizen  participation is essential to combating corruption effectively. Only through persistent commitment and collective action can we hope to  mitigate the damaging effects of corruption and foster sustainable development and social progress.\n",
      "Number of characters: 2401\n",
      "number of characters in original text: 4455\n"
     ]
    }
   ],
   "source": [
    "def output(data):\n",
    "    doc = nlp(data)\n",
    "\n",
    "    #print(f\"Given text count: {len(data)}\")\n",
    "\n",
    "    sentences_score = calculating_score_for_sentences(data)\n",
    "    finaltext = ' '.join([sentence.text for sentence, score in sentences_score.items() if score > 0.5 or score == 0.5])\n",
    "    #print(finaltext)\n",
    "    #print(f\"Summary: {len(finaltext)}\")\n",
    "    print(f'Summary:\\n{finaltext}')\n",
    "    print(f\"Number of characters: {len(finaltext)}\")\n",
    "    print(f\"number of characters in original text: {len(data)}\")\n",
    "    \n",
    "output(data)"
   ]
  },
  {
   "cell_type": "code",
   "execution_count": 10,
   "metadata": {},
   "outputs": [],
   "source": [
    "# from rouge import Rouge"
   ]
  },
  {
   "cell_type": "code",
   "execution_count": 33,
   "metadata": {},
   "outputs": [
    {
     "name": "stdout",
     "output_type": "stream",
     "text": [
      "0.26537785588752194\n"
     ]
    }
   ],
   "source": [
    "# from rouge import Rouge\n",
    "\n",
    "# rouge = Rouge()\n",
    "\n",
    "# # Example summaries and references\n",
    "# summary = '''Corruption is a pervasive issue affecting societies worldwide, leading to detrimental consequences such as hindering economic growth, impeding social development, and undermining political stability. This dissertation explores the various aspects of corruption, including its meaning, consequences, contributing factors, and potential solutions. It also highlights the impact of different political systems on corruption and emphasizes the importance of governance in combatting corrupt practices.\n",
    "\n",
    "# Corruption involves the misuse of power for personal gain and involves practices like bribery, embezzlement, and favoritism. It erodes public trust, weakens institutions, distorts market competition, and exacerbates poverty and inequality, particularly in developing countries.\n",
    "\n",
    "# The impact of corruption is far-reaching, deterring investments, hindering economic growth, and diminishing public services in crucial sectors such as healthcare and education. Corruption also undermines the rule of law, eroding public confidence and perpetuating a culture of impunity.\n",
    "\n",
    "# Various factors contribute to the prevalence of corruption, including weak governance structures, lack of accountability, and limited transparency. Income inequality, flawed legal frameworks, and cultural acceptance of corruption further exacerbate the problem.\n",
    "\n",
    "# Addressing corruption requires a multifaceted approach. This includes promoting transparency, accountability, and integrity through robust legal frameworks, independent judiciaries, and anti-corruption agencies. Fostering a culture of integrity through education and awareness campaigns is also crucial. International cooperation and collaboration play a significant role in combating corruption globally.\n",
    "\n",
    "# The role of political systems is crucial in either facilitating or curbing corruption. Transparent and inclusive political systems with strong institutions, checks and balances, and civic freedoms are more effective in combating corruption. Authoritarian regimes with weak institutions and limited accountability often experience higher levels of corruption.\n",
    "\n",
    "# Combating corruption demands collective efforts from governments, civil society, and international organizations. By understanding its implications, adopting comprehensive solutions, and promoting accountable political systems, societies can work towards creating a more transparent and equitable world. Persistent commitment and collective action are necessary to mitigate the damaging effects of corruption and foster sustainable development and social progress.'''\n",
    "# reference = data\n",
    "\n",
    "\n",
    "# from collections import Counter\n",
    "\n",
    "# nlp = spacy.load(\"en_core_web_sm\")\n",
    "\n",
    "# def calculate_word_frequencies(text):\n",
    "#     doc = nlp(text)\n",
    "#     word_frequencies = Counter()\n",
    "\n",
    "#     for token in doc:\n",
    "#         if not token.is_stop and not token.is_punct:\n",
    "#             word_frequencies[token.text.lower()] += 1\n",
    "\n",
    "#     return word_frequencies\n",
    "\n",
    "# def calculate_sentence_scores(text, word_frequencies):\n",
    "#     doc = nlp(text)\n",
    "#     sentences_scores = {}\n",
    "\n",
    "#     for sent in doc.sents:\n",
    "#         sentence_frequency = 0\n",
    "#         for token in sent:\n",
    "#             if token.text.lower() in word_frequencies:\n",
    "#                 sentence_frequency += word_frequencies[token.text.lower()]\n",
    "#         sentences_scores[sent] = sentence_frequency\n",
    "\n",
    "#     return sentences_scores\n",
    "\n",
    "# def generate_summary(text, num_sentences):\n",
    "#     word_frequencies = calculate_word_frequencies(text)\n",
    "#     sentence_scores = calculate_sentence_scores(text, word_frequencies)\n",
    "\n",
    "#     sorted_sentences = sorted(sentence_scores, key=sentence_scores.get, reverse=True)\n",
    "#     summary_sentences = sorted_sentences[:num_sentences]\n",
    "\n",
    "#     summary = ' '.join([sent.text for sent in summary_sentences])\n",
    "#     return summary\n",
    "\n",
    "# # Example usage\n",
    "# text = \"Your input text goes here.\"  # Replace with your actual text\n",
    "# summary = generate_summary(text, 3)  # Generate a summary of 3 sentences\n",
    "# print(summary)\n",
    "\n"
   ]
  }
 ],
 "metadata": {
  "kernelspec": {
   "display_name": "Python 3",
   "language": "python",
   "name": "python3"
  },
  "language_info": {
   "codemirror_mode": {
    "name": "ipython",
    "version": 3
   },
   "file_extension": ".py",
   "mimetype": "text/x-python",
   "name": "python",
   "nbconvert_exporter": "python",
   "pygments_lexer": "ipython3",
   "version": "3.11.2"
  },
  "orig_nbformat": 4
 },
 "nbformat": 4,
 "nbformat_minor": 2
}
